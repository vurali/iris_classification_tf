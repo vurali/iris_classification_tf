{
  "nbformat": 4,
  "nbformat_minor": 0,
  "metadata": {
    "colab": {
      "provenance": [],
      "toc_visible": true
    },
    "kernelspec": {
      "name": "python3",
      "display_name": "Python 3"
    },
    "language_info": {
      "name": "python"
    }
  },
  "cells": [
    {
      "cell_type": "markdown",
      "source": [
        "# Step 1: Import Libraries"
      ],
      "metadata": {
        "id": "xkHbAk5S21S-"
      }
    },
    {
      "cell_type": "code",
      "source": [
        "import numpy as np\n",
        "import pandas as pd\n",
        "import tensorflow as tf\n",
        "from tensorflow.keras.models import Sequential\n",
        "from tensorflow.keras.layers import Dense\n",
        "from sklearn.model_selection import train_test_split\n",
        "from sklearn.preprocessing import StandardScaler\n",
        "from sklearn.datasets import load_iris\n",
        "from sklearn.metrics import classification_report"
      ],
      "metadata": {
        "id": "fLL7UYIy2zaC"
      },
      "execution_count": 18,
      "outputs": []
    },
    {
      "cell_type": "markdown",
      "source": [
        "# Step 2: Load and Prepare the Data"
      ],
      "metadata": {
        "id": "PtXuWuu72-xt"
      }
    },
    {
      "cell_type": "code",
      "source": [
        "# Load the Iris dataset\n",
        "iris = load_iris()\n",
        "X = iris.data\n",
        "y = iris.target\n",
        "\n",
        "# Split the data into training and testing sets\n",
        "X_train, X_test, y_train, y_test = train_test_split(X, y, test_size=0.2, random_state=42)\n",
        "\n",
        "# Standardize the features\n",
        "scaler = StandardScaler()\n",
        "X_train = scaler.fit_transform(X_train)\n",
        "X_test = scaler.transform(X_test)"
      ],
      "metadata": {
        "id": "5vCUuBJQ24An"
      },
      "execution_count": 19,
      "outputs": []
    },
    {
      "cell_type": "markdown",
      "source": [
        "# Step 3: Build the Model"
      ],
      "metadata": {
        "id": "rqwmu-0H3I1u"
      }
    },
    {
      "cell_type": "code",
      "source": [
        "# Define the model\n",
        "model = Sequential()\n",
        "model.add(Dense(64, activation='relu', input_shape=(X_train.shape[1],)))\n",
        "model.add(Dense(64, activation='relu'))\n",
        "model.add(Dense(3, activation='softmax'))\n",
        "\n",
        "# Compile the model\n",
        "model.compile(optimizer='adam', loss='sparse_categorical_crossentropy', metrics=['accuracy'])\n"
      ],
      "metadata": {
        "id": "P67VOktQ3Gy6"
      },
      "execution_count": 20,
      "outputs": []
    },
    {
      "cell_type": "markdown",
      "source": [
        "# Step 4: Train the Model"
      ],
      "metadata": {
        "id": "qihUJdVv3MXz"
      }
    },
    {
      "cell_type": "code",
      "source": [
        "# Train the model\n",
        "history = model.fit(X_train, y_train, epochs=50, batch_size=8, validation_split=0.2)"
      ],
      "metadata": {
        "colab": {
          "base_uri": "https://localhost:8080/"
        },
        "id": "mx2MAh0E3Lzt",
        "outputId": "9b31057d-ad5a-4c0a-de57-f50094984a52"
      },
      "execution_count": 21,
      "outputs": [
        {
          "output_type": "stream",
          "name": "stdout",
          "text": [
            "Train on 96 samples, validate on 24 samples\n",
            "Epoch 1/50\n",
            "96/96 [==============================] - 0s 4ms/sample - loss: 0.9946 - accuracy: 0.6771 - val_loss: 0.9663 - val_accuracy: 0.5000\n",
            "Epoch 2/50\n",
            " 8/96 [=>............................] - ETA: 0s - loss: 0.9434 - accuracy: 0.5000"
          ]
        },
        {
          "output_type": "stream",
          "name": "stderr",
          "text": [
            "/usr/local/lib/python3.10/dist-packages/keras/src/engine/training_v1.py:2335: UserWarning: `Model.state_updates` will be removed in a future version. This property should not be used in TensorFlow 2.0, as `updates` are applied automatically.\n",
            "  updates = self.state_updates\n"
          ]
        },
        {
          "output_type": "stream",
          "name": "stdout",
          "text": [
            "96/96 [==============================] - 0s 885us/sample - loss: 0.7765 - accuracy: 0.7500 - val_loss: 0.7733 - val_accuracy: 0.7500\n",
            "Epoch 3/50\n",
            "96/96 [==============================] - 0s 833us/sample - loss: 0.6276 - accuracy: 0.8229 - val_loss: 0.6381 - val_accuracy: 0.8750\n",
            "Epoch 4/50\n",
            "96/96 [==============================] - 0s 679us/sample - loss: 0.5249 - accuracy: 0.8333 - val_loss: 0.5347 - val_accuracy: 0.8750\n",
            "Epoch 5/50\n",
            "96/96 [==============================] - 0s 946us/sample - loss: 0.4547 - accuracy: 0.8021 - val_loss: 0.4573 - val_accuracy: 0.8750\n",
            "Epoch 6/50\n",
            "96/96 [==============================] - 0s 802us/sample - loss: 0.4016 - accuracy: 0.8229 - val_loss: 0.4211 - val_accuracy: 0.9167\n",
            "Epoch 7/50\n",
            "96/96 [==============================] - 0s 635us/sample - loss: 0.3657 - accuracy: 0.8229 - val_loss: 0.3734 - val_accuracy: 0.9167\n",
            "Epoch 8/50\n",
            "96/96 [==============================] - 0s 605us/sample - loss: 0.3361 - accuracy: 0.8333 - val_loss: 0.3476 - val_accuracy: 0.9167\n",
            "Epoch 9/50\n",
            "96/96 [==============================] - 0s 606us/sample - loss: 0.3158 - accuracy: 0.8542 - val_loss: 0.3341 - val_accuracy: 0.9167\n",
            "Epoch 10/50\n",
            "96/96 [==============================] - 0s 364us/sample - loss: 0.2942 - accuracy: 0.8750 - val_loss: 0.3175 - val_accuracy: 0.9167\n",
            "Epoch 11/50\n",
            "96/96 [==============================] - 0s 589us/sample - loss: 0.2728 - accuracy: 0.8958 - val_loss: 0.2913 - val_accuracy: 0.9167\n",
            "Epoch 12/50\n",
            "96/96 [==============================] - 0s 456us/sample - loss: 0.2580 - accuracy: 0.8750 - val_loss: 0.2672 - val_accuracy: 0.9583\n",
            "Epoch 13/50\n",
            "96/96 [==============================] - 0s 395us/sample - loss: 0.2369 - accuracy: 0.9271 - val_loss: 0.2704 - val_accuracy: 0.9583\n",
            "Epoch 14/50\n",
            "96/96 [==============================] - 0s 566us/sample - loss: 0.2221 - accuracy: 0.9375 - val_loss: 0.2550 - val_accuracy: 0.9583\n",
            "Epoch 15/50\n",
            "96/96 [==============================] - 0s 561us/sample - loss: 0.2060 - accuracy: 0.9375 - val_loss: 0.2539 - val_accuracy: 0.9167\n",
            "Epoch 16/50\n",
            "96/96 [==============================] - 0s 560us/sample - loss: 0.1961 - accuracy: 0.9375 - val_loss: 0.2323 - val_accuracy: 0.9583\n",
            "Epoch 17/50\n",
            "96/96 [==============================] - 0s 568us/sample - loss: 0.1859 - accuracy: 0.9375 - val_loss: 0.2641 - val_accuracy: 0.9167\n",
            "Epoch 18/50\n",
            "96/96 [==============================] - 0s 511us/sample - loss: 0.1715 - accuracy: 0.9375 - val_loss: 0.2158 - val_accuracy: 0.9167\n",
            "Epoch 19/50\n",
            "96/96 [==============================] - 0s 571us/sample - loss: 0.1617 - accuracy: 0.9375 - val_loss: 0.2286 - val_accuracy: 0.9167\n",
            "Epoch 20/50\n",
            "96/96 [==============================] - 0s 487us/sample - loss: 0.1490 - accuracy: 0.9375 - val_loss: 0.2186 - val_accuracy: 0.9167\n",
            "Epoch 21/50\n",
            "96/96 [==============================] - 0s 677us/sample - loss: 0.1428 - accuracy: 0.9479 - val_loss: 0.2162 - val_accuracy: 0.9167\n",
            "Epoch 22/50\n",
            "96/96 [==============================] - 0s 483us/sample - loss: 0.1334 - accuracy: 0.9375 - val_loss: 0.2203 - val_accuracy: 0.9167\n",
            "Epoch 23/50\n",
            "96/96 [==============================] - 0s 599us/sample - loss: 0.1275 - accuracy: 0.9479 - val_loss: 0.2136 - val_accuracy: 0.9167\n",
            "Epoch 24/50\n",
            "96/96 [==============================] - 0s 488us/sample - loss: 0.1217 - accuracy: 0.9479 - val_loss: 0.2474 - val_accuracy: 0.9167\n",
            "Epoch 25/50\n",
            "96/96 [==============================] - 0s 373us/sample - loss: 0.1133 - accuracy: 0.9375 - val_loss: 0.2293 - val_accuracy: 0.9167\n",
            "Epoch 26/50\n",
            "96/96 [==============================] - 0s 358us/sample - loss: 0.1063 - accuracy: 0.9479 - val_loss: 0.2118 - val_accuracy: 0.9167\n",
            "Epoch 27/50\n",
            "96/96 [==============================] - 0s 349us/sample - loss: 0.1028 - accuracy: 0.9792 - val_loss: 0.2283 - val_accuracy: 0.9167\n",
            "Epoch 28/50\n",
            "96/96 [==============================] - 0s 340us/sample - loss: 0.0974 - accuracy: 0.9688 - val_loss: 0.2254 - val_accuracy: 0.9167\n",
            "Epoch 29/50\n",
            "96/96 [==============================] - 0s 330us/sample - loss: 0.0950 - accuracy: 0.9688 - val_loss: 0.2215 - val_accuracy: 0.9167\n",
            "Epoch 30/50\n",
            "96/96 [==============================] - 0s 287us/sample - loss: 0.0930 - accuracy: 0.9583 - val_loss: 0.2283 - val_accuracy: 0.9167\n",
            "Epoch 31/50\n",
            "96/96 [==============================] - 0s 364us/sample - loss: 0.0932 - accuracy: 0.9792 - val_loss: 0.2570 - val_accuracy: 0.9167\n",
            "Epoch 32/50\n",
            "96/96 [==============================] - 0s 501us/sample - loss: 0.0850 - accuracy: 0.9688 - val_loss: 0.2226 - val_accuracy: 0.9167\n",
            "Epoch 33/50\n",
            "96/96 [==============================] - 0s 333us/sample - loss: 0.0826 - accuracy: 0.9688 - val_loss: 0.2341 - val_accuracy: 0.9167\n",
            "Epoch 34/50\n",
            "96/96 [==============================] - 0s 331us/sample - loss: 0.0799 - accuracy: 0.9688 - val_loss: 0.2416 - val_accuracy: 0.9167\n",
            "Epoch 35/50\n",
            "96/96 [==============================] - 0s 360us/sample - loss: 0.0854 - accuracy: 0.9583 - val_loss: 0.2940 - val_accuracy: 0.9167\n",
            "Epoch 36/50\n",
            "96/96 [==============================] - 0s 335us/sample - loss: 0.0722 - accuracy: 0.9792 - val_loss: 0.2223 - val_accuracy: 0.9167\n",
            "Epoch 37/50\n",
            "96/96 [==============================] - 0s 398us/sample - loss: 0.0778 - accuracy: 0.9688 - val_loss: 0.2230 - val_accuracy: 0.9167\n",
            "Epoch 38/50\n",
            "96/96 [==============================] - 0s 403us/sample - loss: 0.0734 - accuracy: 0.9688 - val_loss: 0.2814 - val_accuracy: 0.9167\n",
            "Epoch 39/50\n",
            "96/96 [==============================] - 0s 407us/sample - loss: 0.0711 - accuracy: 0.9896 - val_loss: 0.2557 - val_accuracy: 0.9167\n",
            "Epoch 40/50\n",
            "96/96 [==============================] - 0s 431us/sample - loss: 0.0689 - accuracy: 0.9792 - val_loss: 0.2883 - val_accuracy: 0.9167\n",
            "Epoch 41/50\n",
            "96/96 [==============================] - 0s 385us/sample - loss: 0.0700 - accuracy: 0.9792 - val_loss: 0.2806 - val_accuracy: 0.9167\n",
            "Epoch 42/50\n",
            "96/96 [==============================] - 0s 391us/sample - loss: 0.0656 - accuracy: 0.9792 - val_loss: 0.2735 - val_accuracy: 0.9167\n",
            "Epoch 43/50\n",
            "96/96 [==============================] - 0s 372us/sample - loss: 0.0646 - accuracy: 0.9792 - val_loss: 0.2840 - val_accuracy: 0.9167\n",
            "Epoch 44/50\n",
            "96/96 [==============================] - 0s 442us/sample - loss: 0.0630 - accuracy: 0.9792 - val_loss: 0.2913 - val_accuracy: 0.9167\n",
            "Epoch 45/50\n",
            "96/96 [==============================] - 0s 392us/sample - loss: 0.0672 - accuracy: 0.9688 - val_loss: 0.2586 - val_accuracy: 0.9167\n",
            "Epoch 46/50\n",
            "96/96 [==============================] - 0s 408us/sample - loss: 0.0603 - accuracy: 0.9896 - val_loss: 0.3233 - val_accuracy: 0.9167\n",
            "Epoch 47/50\n",
            "96/96 [==============================] - 0s 415us/sample - loss: 0.0628 - accuracy: 0.9792 - val_loss: 0.2847 - val_accuracy: 0.9167\n",
            "Epoch 48/50\n",
            "96/96 [==============================] - 0s 533us/sample - loss: 0.0594 - accuracy: 0.9896 - val_loss: 0.2934 - val_accuracy: 0.9167\n",
            "Epoch 49/50\n",
            "96/96 [==============================] - 0s 419us/sample - loss: 0.0629 - accuracy: 0.9792 - val_loss: 0.2885 - val_accuracy: 0.9167\n",
            "Epoch 50/50\n",
            "96/96 [==============================] - 0s 398us/sample - loss: 0.0586 - accuracy: 0.9792 - val_loss: 0.3359 - val_accuracy: 0.9167\n"
          ]
        }
      ]
    },
    {
      "cell_type": "markdown",
      "source": [
        "# Step 5: Evaluate the Model"
      ],
      "metadata": {
        "id": "XmvRjj583Rzp"
      }
    },
    {
      "cell_type": "code",
      "source": [
        "# Evaluate the model\n",
        "test_loss, test_accuracy = model.evaluate(X_test, y_test)\n",
        "print(f\"Test accuracy: {test_accuracy:.4f}\")"
      ],
      "metadata": {
        "colab": {
          "base_uri": "https://localhost:8080/"
        },
        "id": "8piMn8Fq3ROF",
        "outputId": "e308a996-42cd-47c6-fa8c-4d3b8c2404aa"
      },
      "execution_count": 22,
      "outputs": [
        {
          "output_type": "stream",
          "name": "stdout",
          "text": [
            "Test accuracy: 1.0000\n"
          ]
        }
      ]
    },
    {
      "cell_type": "markdown",
      "source": [
        "# Step 6: Make Predictions"
      ],
      "metadata": {
        "id": "m7hHtNeh3c0t"
      }
    },
    {
      "cell_type": "code",
      "source": [
        "# Make predictions\n",
        "y_pred = model.predict(X_test)\n",
        "y_pred_classes = np.argmax(y_pred, axis=1)\n",
        "\n",
        "# Print classification report\n",
        "print(classification_report(y_test, y_pred_classes))"
      ],
      "metadata": {
        "colab": {
          "base_uri": "https://localhost:8080/"
        },
        "id": "l4Bt_LR43cN3",
        "outputId": "9f8d5d04-3c8c-4f50-d6c3-e5ca9268aaeb"
      },
      "execution_count": 23,
      "outputs": [
        {
          "output_type": "stream",
          "name": "stdout",
          "text": [
            "              precision    recall  f1-score   support\n",
            "\n",
            "           0       1.00      1.00      1.00        10\n",
            "           1       1.00      1.00      1.00         9\n",
            "           2       1.00      1.00      1.00        11\n",
            "\n",
            "    accuracy                           1.00        30\n",
            "   macro avg       1.00      1.00      1.00        30\n",
            "weighted avg       1.00      1.00      1.00        30\n",
            "\n"
          ]
        },
        {
          "output_type": "stream",
          "name": "stderr",
          "text": [
            "/usr/local/lib/python3.10/dist-packages/keras/src/engine/training_v1.py:2359: UserWarning: `Model.state_updates` will be removed in a future version. This property should not be used in TensorFlow 2.0, as `updates` are applied automatically.\n",
            "  updates=self.state_updates,\n"
          ]
        }
      ]
    },
    {
      "cell_type": "markdown",
      "source": [
        "# Step 7: Visualize Training History"
      ],
      "metadata": {
        "id": "-8KY2wg43k-d"
      }
    },
    {
      "cell_type": "code",
      "source": [
        "import matplotlib.pyplot as plt\n",
        "\n",
        "# Plot training & validation accuracy values\n",
        "plt.figure(figsize=(12, 4))\n",
        "\n",
        "plt.subplot(1, 2, 1)\n",
        "plt.plot(history.history['accuracy'])\n",
        "plt.plot(history.history['val_accuracy'])\n",
        "plt.title('Model accuracy')\n",
        "plt.xlabel('Epoch')\n",
        "plt.ylabel('Accuracy')\n",
        "plt.legend(['Train', 'Validation'], loc='upper left')\n",
        "\n",
        "# Plot training & validation loss values\n",
        "plt.subplot(1, 2, 2)\n",
        "plt.plot(history.history['loss'])\n",
        "plt.plot(history.history['val_loss'])\n",
        "plt.title('Model loss')\n",
        "plt.xlabel('Epoch')\n",
        "plt.ylabel('Loss')\n",
        "plt.legend(['Train', 'Validation'], loc='upper left')\n",
        "\n",
        "plt.show()\n"
      ],
      "metadata": {
        "colab": {
          "base_uri": "https://localhost:8080/",
          "height": 410
        },
        "id": "2A3ma6qI3h7Z",
        "outputId": "aa19b22e-5ae5-411e-e574-3d185c872317"
      },
      "execution_count": 24,
      "outputs": [
        {
          "output_type": "display_data",
          "data": {
            "text/plain": [
              "<Figure size 1200x400 with 2 Axes>"
            ],
            "image/png": "[encoded data removed]"
          },
          "metadata": {}
        }
      ]
    },
    {
      "cell_type": "code",
      "source": [],
      "metadata": {
        "id": "yCYzAGiz3qPD"
      },
      "execution_count": null,
      "outputs": []
    }
  ]
}